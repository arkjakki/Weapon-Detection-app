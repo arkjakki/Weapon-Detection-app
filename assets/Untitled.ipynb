{
 "cells": [
  {
   "cell_type": "code",
   "execution_count": 1,
   "id": "241ae988-c9e0-4294-8d8c-eaff613e8e36",
   "metadata": {},
   "outputs": [],
   "source": [
    "import matplotlib.pyplot as plt\n",
    "%matplotlib inline\n",
    "import seaborn as sns\n",
    "plt.style.use('dark_background')"
   ]
  },
  {
   "cell_type": "code",
   "execution_count": 2,
   "id": "95f7849d-cdf6-45b0-92ea-7ca78353e7e9",
   "metadata": {},
   "outputs": [
    {
     "name": "stdout",
     "output_type": "stream",
     "text": [
      "[WinError 2] The system cannot find the file specified: 'yolov5'\n",
      "C:\\Users\\arkja\\OneDrive\\Desktop\\knife\n"
     ]
    },
    {
     "name": "stderr",
     "output_type": "stream",
     "text": [
      "fatal: Too many arguments.\n",
      "\n",
      "usage: git clone [<options>] [--] <repo> [<dir>]\n",
      "\n",
      "    -v, --[no-]verbose    be more verbose\n",
      "    -q, --[no-]quiet      be more quiet\n",
      "    --[no-]progress       force progress reporting\n",
      "    --[no-]reject-shallow don't clone shallow repository\n",
      "    -n, --no-checkout     don't create a checkout\n",
      "    --checkout            opposite of --no-checkout\n",
      "    --[no-]bare           create a bare repository\n",
      "    --[no-]mirror         create a mirror repository (implies --bare)\n",
      "    -l, --[no-]local      to clone from a local repository\n",
      "    --no-hardlinks        don't use local hardlinks, always copy\n",
      "    --hardlinks           opposite of --no-hardlinks\n",
      "    -s, --[no-]shared     setup as shared repository\n",
      "    --[no-]recurse-submodules[=<pathspec>]\n",
      "                          initialize submodules in the clone\n",
      "    --[no-]recursive ...  alias of --recurse-submodules\n",
      "    -j, --[no-]jobs <n>   number of submodules cloned in parallel\n",
      "    --[no-]template <template-directory>\n",
      "                          directory from which templates will be used\n",
      "    --[no-]reference <repo>\n",
      "                          reference repository\n",
      "    --[no-]reference-if-able <repo>\n",
      "                          reference repository\n",
      "    --[no-]dissociate     use --reference only while cloning\n",
      "    -o, --[no-]origin <name>\n",
      "                          use <name> instead of 'origin' to track upstream\n",
      "    -b, --[no-]branch <branch>\n",
      "                          checkout <branch> instead of the remote's HEAD\n",
      "    -u, --[no-]upload-pack <path>\n",
      "                          path to git-upload-pack on the remote\n",
      "    --[no-]depth <depth>  create a shallow clone of that depth\n",
      "    --[no-]shallow-since <time>\n",
      "                          create a shallow clone since a specific time\n",
      "    --[no-]shallow-exclude <revision>\n",
      "                          deepen history of shallow clone, excluding rev\n",
      "    --[no-]single-branch  clone only one branch, HEAD or --branch\n",
      "    --no-tags             don't clone any tags, and make later fetches not to follow them\n",
      "    --tags                opposite of --no-tags\n",
      "    --[no-]shallow-submodules\n",
      "                          any cloned submodules will be shallow\n",
      "    --[no-]separate-git-dir <gitdir>\n",
      "                          separate git dir from working tree\n",
      "    --[no-]ref-format <format>\n",
      "                          specify the reference format to use\n",
      "    -c, --[no-]config <key=value>\n",
      "                          set config inside the new repository\n",
      "    --[no-]server-option <server-specific>\n",
      "                          option to transmit\n",
      "    -4, --ipv4            use IPv4 addresses only\n",
      "    -6, --ipv6            use IPv6 addresses only\n",
      "    --[no-]filter <args>  object filtering\n",
      "    --[no-]also-filter-submodules\n",
      "                          apply partial clone filters to submodules\n",
      "    --[no-]remote-submodules\n",
      "                          any cloned submodules will use their remote-tracking branch\n",
      "    --[no-]sparse         initialize sparse-checkout file to include only files at root\n",
      "    --[no-]bundle-uri <uri>\n",
      "                          a URI for downloading bundles before fetching from origin remote\n",
      "\n",
      "C:\\Users\\arkja\\AppData\\Local\\Programs\\Python\\Python310\\lib\\site-packages\\IPython\\core\\magics\\osm.py:393: UserWarning: This is now an optional IPython functionality, using bookmarks requires you to install the `pickleshare` library.\n",
      "  bkms = self.shell.db.get('bookmarks', {})\n"
     ]
    },
    {
     "name": "stdout",
     "output_type": "stream",
     "text": [
      "Note: you may need to restart the kernel to use updated packages.\n"
     ]
    },
    {
     "name": "stderr",
     "output_type": "stream",
     "text": [
      "ERROR: Invalid requirement: '#': Expected package name at the start of dependency specifier\n",
      "    #\n",
      "    ^\n",
      "'wandb' is not recognized as an internal or external command,\n",
      "operable program or batch file.\n"
     ]
    },
    {
     "ename": "ModuleNotFoundError",
     "evalue": "No module named 'utils'",
     "output_type": "error",
     "traceback": [
      "\u001b[1;31m---------------------------------------------------------------------------\u001b[0m",
      "\u001b[1;31mModuleNotFoundError\u001b[0m                       Traceback (most recent call last)",
      "Cell \u001b[1;32mIn[2], line 7\u001b[0m\n\u001b[0;32m      4\u001b[0m get_ipython()\u001b[38;5;241m.\u001b[39msystem(\u001b[38;5;124m'\u001b[39m\u001b[38;5;124mwandb disabled\u001b[39m\u001b[38;5;124m'\u001b[39m)\n\u001b[0;32m      6\u001b[0m \u001b[38;5;28;01mimport\u001b[39;00m \u001b[38;5;21;01mtorch\u001b[39;00m\n\u001b[1;32m----> 7\u001b[0m \u001b[38;5;28;01mimport\u001b[39;00m \u001b[38;5;21;01mutils\u001b[39;00m\n\u001b[0;32m      8\u001b[0m display \u001b[38;5;241m=\u001b[39m utils\u001b[38;5;241m.\u001b[39mnotebook_init()  \u001b[38;5;66;03m# checks\u001b[39;00m\n",
      "\u001b[1;31mModuleNotFoundError\u001b[0m: No module named 'utils'"
     ]
    }
   ],
   "source": [
    "!git clone https://github.com/ultralytics/yolov5  # clone\n",
    "%cd yolov5\n",
    "%pip install -qr requirements.txt comet_ml  # install\n",
    "!wandb disabled \n",
    "\n",
    "import torch\n",
    "import utils\n",
    "display = utils.notebook_init()  # checks"
   ]
  },
  {
   "cell_type": "code",
   "execution_count": null,
   "id": "21f5fe86-9d5a-4048-908d-a4f177134386",
   "metadata": {},
   "outputs": [],
   "source": []
  }
 ],
 "metadata": {
  "kernelspec": {
   "display_name": "Python 3 (ipykernel)",
   "language": "python",
   "name": "python3"
  },
  "language_info": {
   "codemirror_mode": {
    "name": "ipython",
    "version": 3
   },
   "file_extension": ".py",
   "mimetype": "text/x-python",
   "name": "python",
   "nbconvert_exporter": "python",
   "pygments_lexer": "ipython3",
   "version": "3.10.0"
  }
 },
 "nbformat": 4,
 "nbformat_minor": 5
}
